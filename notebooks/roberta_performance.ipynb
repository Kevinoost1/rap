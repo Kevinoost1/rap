{
 "cells": [
  {
   "cell_type": "code",
   "execution_count": 2,
   "id": "initial_id",
   "metadata": {
    "collapsed": true,
    "ExecuteTime": {
     "end_time": "2025-02-20T08:32:16.144452Z",
     "start_time": "2025-02-20T08:32:16.140841600Z"
    }
   },
   "outputs": [],
   "source": [
    "import pandas as pd"
   ]
  },
  {
   "cell_type": "markdown",
   "source": [
    "# ROBERTA testing"
   ],
   "metadata": {
    "collapsed": false
   },
   "id": "bf466548b3d3a158"
  },
  {
   "cell_type": "code",
   "outputs": [],
   "source": [
    "labelled_df = pd.read_csv('labelled_test_set.csv')"
   ],
   "metadata": {
    "collapsed": false,
    "ExecuteTime": {
     "end_time": "2025-02-20T08:32:16.634741100Z",
     "start_time": "2025-02-20T08:32:16.609294500Z"
    }
   },
   "id": "11cb8f3439647ecd",
   "execution_count": 3
  },
  {
   "cell_type": "code",
   "outputs": [],
   "source": [
    "sent_conv_dict = {'pos': 'positive', 'neg': 'negative', 'neu': 'neutral'}\n",
    "df_sent = labelled_df.copy()\n",
    "\n",
    "df_sent['manual_sent'] = df_sent['manual_sent'].replace(sent_conv_dict)\n"
   ],
   "metadata": {
    "collapsed": false,
    "ExecuteTime": {
     "end_time": "2025-02-20T08:32:17.299610800Z",
     "start_time": "2025-02-20T08:32:17.295052900Z"
    }
   },
   "id": "d61fcd172c1297fc",
   "execution_count": 6
  },
  {
   "cell_type": "code",
   "outputs": [
    {
     "name": "stdout",
     "output_type": "stream",
     "text": [
      "[[ 65  23   7]\n",
      " [ 12  44  12]\n",
      " [  9  20 107]]\n",
      "The average accuracy is: 72.24%, \n",
      " The weighted precision is: 0.74, \n",
      " The weighted recall is: 0.72\n"
     ]
    }
   ],
   "source": [
    "from sklearn.metrics import confusion_matrix, accuracy_score, precision_score, recall_score\n",
    "y_true = df_sent['manual_sent']\n",
    "y_pred = df_sent['sent_roberta_tweet_class']\n",
    "\n",
    "cm = confusion_matrix(y_true, y_pred)\n",
    "print(cm)\n",
    "sent_acc = accuracy_score(y_true, y_pred)\n",
    "sent_precision = precision_score(y_true, y_pred, average='weighted')\n",
    "sent_recall = recall_score(y_true, y_pred, average='weighted')\n",
    "\n",
    "print(f'The average accuracy is: {round((sent_acc * 100), 2)}%, \\n The weighted precision is: {round(sent_precision, 2)}, \\n The weighted recall is: {round(sent_recall, 2)}')"
   ],
   "metadata": {
    "collapsed": false,
    "ExecuteTime": {
     "end_time": "2025-02-20T08:32:17.687440900Z",
     "start_time": "2025-02-20T08:32:17.673499500Z"
    }
   },
   "id": "481066d3fff09cee",
   "execution_count": 8
  },
  {
   "cell_type": "code",
   "outputs": [
    {
     "name": "stdout",
     "output_type": "stream",
     "text": [
      "              precision    recall  f1-score   support\n",
      "\n",
      "    negative       0.76      0.68      0.72        95\n",
      "     neutral       0.51      0.65      0.57        68\n",
      "    positive       0.85      0.79      0.82       136\n",
      "\n",
      "    accuracy                           0.72       299\n",
      "   macro avg       0.70      0.71      0.70       299\n",
      "weighted avg       0.74      0.72      0.73       299\n"
     ]
    }
   ],
   "source": [
    "from sklearn.metrics import classification_report\n",
    "\n",
    "print(classification_report(df_sent['manual_sent'], df_sent['sent_roberta_tweet_class']))"
   ],
   "metadata": {
    "collapsed": false,
    "ExecuteTime": {
     "end_time": "2025-02-20T08:32:17.883119800Z",
     "start_time": "2025-02-20T08:32:17.864285600Z"
    }
   },
   "id": "3c7bbc52aad201f0",
   "execution_count": 9
  },
  {
   "cell_type": "markdown",
   "source": [
    "# Distribution of Topics in manual labels"
   ],
   "metadata": {
    "collapsed": false
   },
   "id": "199fb2ea2f200333"
  },
  {
   "cell_type": "code",
   "outputs": [
    {
     "name": "stdout",
     "output_type": "stream",
     "text": [
      " The percentage for food is: 9.36%\n",
      " The percentage for vlog is: 20.74%\n",
      " The percentage for health is: 2.34%\n",
      " The percentage for politics is: 7.36%\n",
      " The percentage for meme is: 3.34%\n",
      " The percentage for misc is: 20.74%\n",
      " The percentage for relationships is: 18.06%\n",
      " The percentage for art is: 5.69%\n",
      " The percentage for beauty is: 8.7%\n",
      " The percentage for self is: 3.68%\n"
     ]
    },
    {
     "name": "stderr",
     "output_type": "stream",
     "text": [
      "C:\\Users\\2mrwm\\AppData\\Local\\Temp\\ipykernel_16732\\2919654548.py:16: FutureWarning: \n",
      "\n",
      "Passing `palette` without assigning `hue` is deprecated and will be removed in v0.14.0. Assign the `y` variable to `hue` and set `legend=False` for the same effect.\n",
      "\n",
      "  sns.barplot(data=bar_df, x='count', y='topic', palette='Blues_r')\n"
     ]
    },
    {
     "data": {
      "text/plain": "<Figure size 640x480 with 1 Axes>",
      "image/png": "[encoded data removed]"
     },
     "metadata": {},
     "output_type": "display_data"
    }
   ],
   "source": [
    "import pandas as pd\n",
    "import math\n",
    "import matplotlib.pyplot as plt\n",
    "import seaborn as sns\n",
    "from collections import Counter\n",
    "import numpy as np\n",
    "\n",
    "different_topics = labelled_df['manual_topic']\n",
    "count = Counter(different_topics)\n",
    "\n",
    "topics = [topic for topic in count]\n",
    "height = [n for n in count.values()]\n",
    "bar_df = pd.DataFrame()\n",
    "bar_df['topic'] = topics\n",
    "bar_df['count'] = height\n",
    "sns.barplot(data=bar_df, x='count', y='topic', palette='Blues_r')\n",
    "\n",
    "total_count = np.sum(np.array(height))\n",
    "for t in count:\n",
    "    print(f' The percentage for {t} is: {round(((count[t] / total_count) * 100), 2)}%')\n"
   ],
   "metadata": {
    "collapsed": false,
    "ExecuteTime": {
     "end_time": "2025-02-20T08:32:18.462399900Z",
     "start_time": "2025-02-20T08:32:18.230543500Z"
    }
   },
   "id": "cae62965001adfbd",
   "execution_count": 10
  },
  {
   "cell_type": "code",
   "outputs": [
    {
     "name": "stdout",
     "output_type": "stream",
     "text": [
      "Counter({'diaries_&_daily_life': 1696, 'food_&_dining': 620, 'music': 349, 'relationships': 348, 'fashion_&_style': 334, 'family': 296, 'film_tv_&_video': 275, 'fitness_&_health': 219, 'celebrity_&_pop_culture': 201, 'news_&_social_concern': 192, 'sports': 164, 'business_&_entrepreneurs': 100, 'learning_&_educational': 73, 'travel_&_adventure': 70, 'science_&_technology': 68, 'gaming': 65, 'arts_&_culture': 59, 'other_hobbies': 28, 'youth_&_student_life': 1})\n",
      " The percentage for diaries_&_daily_life is: 32.88%\n",
      " The percentage for food_&_dining is: 12.02%\n",
      " The percentage for relationships is: 6.75%\n",
      " The percentage for music is: 6.77%\n",
      " The percentage for celebrity_&_pop_culture is: 3.9%\n",
      " The percentage for film_tv_&_video is: 5.33%\n",
      " The percentage for travel_&_adventure is: 1.36%\n",
      " The percentage for sports is: 3.18%\n",
      " The percentage for family is: 5.74%\n",
      " The percentage for fitness_&_health is: 4.25%\n",
      " The percentage for business_&_entrepreneurs is: 1.94%\n",
      " The percentage for news_&_social_concern is: 3.72%\n",
      " The percentage for fashion_&_style is: 6.48%\n",
      " The percentage for arts_&_culture is: 1.14%\n",
      " The percentage for learning_&_educational is: 1.42%\n",
      " The percentage for gaming is: 1.26%\n",
      " The percentage for science_&_technology is: 1.32%\n",
      " The percentage for other_hobbies is: 0.54%\n",
      " The percentage for youth_&_student_life is: 0.02%\n"
     ]
    },
    {
     "data": {
      "text/plain": "<Figure size 640x480 with 1 Axes>",
      "image/png": "[encoded data removed]"
     },
     "metadata": {},
     "output_type": "display_data"
    }
   ],
   "source": [
    "\n",
    "full_df = pd.read_csv('analyzed_csv.csv')\n",
    "count_pred = Counter(full_df['top_roberta_class1'])\n",
    "print(count_pred)\n",
    "\n",
    "for perc in count_pred:\n",
    "    print(f' The percentage for {perc} is: {round((count_pred[perc] / 5158) * 100, 2)}%')\n",
    "\n",
    "manual_topics_dist = ['food', 'vlog', 'health', 'politics', 'relationships', 'art', 'beauty']\n",
    "manual_topics_height = [0.0936, 0.2074, 0.0234, 0.0736, 0.1806, 0.0569, 0.087]\n",
    "\n",
    "pred_topics_dist = ['food', 'vlog', 'health', 'politics', 'relationships', 'art', 'beauty']\n",
    "pred_topics_height = [0.1202, 0.3288, 0.0425, 0.0372, 0.0675, 0.0114, 0.0648]\n",
    "\n",
    "x = np.arange(len(manual_topics_dist))\n",
    "\n",
    "width = 0.4\n",
    "fig, ax = plt.subplots()\n",
    "bar1 = ax.bar(x - width/2, pred_topics_height, width, label='Predicted topics (full data)', color='skyblue')\n",
    "bar2 = ax.bar(x + width/2, manual_topics_height, width, label='Manual topics (n=300)', color='salmon')\n",
    "\n",
    "ax.set_xlabel('Topics')\n",
    "ax.set_ylabel('Percentage (%)')\n",
    "ax.set_title('Topic distribution comparison between full data predicted and n=300 test set')\n",
    "ax.set_xticks(x)\n",
    "ax.set_xticklabels(manual_topics_dist, rotation=45, ha='right')\n",
    "ax.legend()\n",
    "\n",
    "plt.tight_layout()\n",
    "plt.show()\n",
    "\n",
    "\n"
   ],
   "metadata": {
    "collapsed": false,
    "ExecuteTime": {
     "end_time": "2025-02-20T08:32:18.607447700Z",
     "start_time": "2025-02-20T08:32:18.462399900Z"
    }
   },
   "id": "3dcd78ecc0e18927",
   "execution_count": 11
  },
  {
   "cell_type": "code",
   "outputs": [
    {
     "name": "stdout",
     "output_type": "stream",
     "text": [
      "0               food\n",
      "1               vlog\n",
      "2             health\n",
      "3                art\n",
      "4               vlog\n",
      "           ...      \n",
      "294             misc\n",
      "295              art\n",
      "296              art\n",
      "297              art\n",
      "298    relationships\n",
      "Name: top_roberta_class1, Length: 299, dtype: object\n",
      "0     True\n",
      "1     True\n",
      "2     True\n",
      "3    False\n",
      "4    False\n",
      "5    False\n",
      "6     True\n",
      "7     True\n",
      "8     True\n",
      "9     True\n",
      "dtype: bool\n",
      "Custom Accuracy: 0.7892976588628763\n"
     ]
    }
   ],
   "source": [
    "df = pd.read_csv('labelled_test_set_5labels.csv')\n",
    "\n",
    "df['manual_topic'] = df['manual_topic'].replace('meme', 'misc')\n",
    "df['manual_topic'] = df['manual_topic'].replace('self', 'misc')\n",
    "\n",
    "grouped_topics2 = {'diaries_&_daily_life': 'vlog', 'food_&_dining': 'food', 'relationships': 'relationships', 'celebrity_&_pop_culture': 'misc', 'music': 'art', 'family': 'relationships', 'fashion_&_style': 'beauty', 'film_tv_&_video': 'art', 'news_&_social_concern': 'politics', 'fitness_&_health': 'health', 'sports': 'misc', 'other_hobbies': 'misc', 'business_&_entrepreneurs': 'misc', 'travel_&_adventure': 'vlog', 'learning_&_educational': 'misc', 'arts_&_culture': 'art', 'gaming': 'art', 'science_&_technology': 'misc', 'youth_&_student_life': 'misc'}\n",
    "\n",
    "for roberta_classes, manual_topic in grouped_topics2.items():\n",
    "\n",
    "    df['top_roberta_class1'] = df['top_roberta_class1'].replace(roberta_classes, manual_topic)\n",
    "    df['top_roberta_class2'] = df['top_roberta_class2'].replace(roberta_classes, manual_topic)\n",
    "    df['top_roberta_class3'] = df['top_roberta_class3'].replace(roberta_classes, manual_topic)\n",
    "    df['top_roberta_class4'] = df['top_roberta_class4'].replace(roberta_classes, manual_topic)\n",
    "    df['top_roberta_class5'] = df['top_roberta_class5'].replace(roberta_classes, manual_topic)\n",
    "    \n",
    "print(df['top_roberta_class1'])\n",
    "    \n",
    "top_y_true = df['manual_topic']\n",
    "top_y_pred = df['top_roberta_class1']\n",
    "top_y_pred2 = df['top_roberta_class2']\n",
    "top_y_pred3 = df['top_roberta_class3']\n",
    "top_y_pred4 = df['top_roberta_class4']\n",
    "\n",
    "\n",
    "correct_predictions = (top_y_true == top_y_pred) | (top_y_true == top_y_pred2) | (top_y_true == top_y_pred3) | (top_y_true == top_y_pred4) \n",
    "custom_accuracy = correct_predictions.mean()\n",
    "print(\"Custom Accuracy:\", custom_accuracy)\n",
    "\n",
    "\n"
   ],
   "metadata": {
    "collapsed": false,
    "ExecuteTime": {
     "end_time": "2025-02-20T08:32:18.677842500Z",
     "start_time": "2025-02-20T08:32:18.615928900Z"
    }
   },
   "id": "5cf9909a64f410e0",
   "execution_count": 12
  },
  {
   "cell_type": "code",
   "outputs": [
    {
     "name": "stdout",
     "output_type": "stream",
     "text": [
      "Custom Precision: 0.6856835855907967\n",
      "Custom Recall: 0.6923352462741994\n",
      "Custom F1 Score: 0.6598221712172134\n",
      "Custom Accuracy: 0.6454849498327759\n",
      "Custom Accuracy: 0.6454849498327759\n",
      "\n",
      "Classification Report:\n",
      "                precision    recall  f1-score   support\n",
      "\n",
      "          art       0.34      0.82      0.48        17\n",
      "       beauty       0.95      0.73      0.83        26\n",
      "         food       0.83      0.89      0.86        28\n",
      "       health       0.50      0.71      0.59         7\n",
      "         misc       0.83      0.46      0.59        83\n",
      "     politics       0.75      0.55      0.63        22\n",
      "relationships       0.80      0.65      0.71        54\n",
      "         vlog       0.49      0.73      0.58        62\n",
      "\n",
      "     accuracy                           0.65       299\n",
      "    macro avg       0.69      0.69      0.66       299\n",
      " weighted avg       0.72      0.65      0.65       299\n"
     ]
    }
   ],
   "source": [
    "from sklearn.metrics import precision_score, recall_score, precision_recall_fscore_support\n",
    "\n",
    "# Consolidate all top predictions into one list of lists\n",
    "top_y_preds = df[['top_roberta_class1', 'top_roberta_class2']].values.tolist()\n",
    "\n",
    "y_pred_final = [\n",
    "    next((pred for pred in preds if pred == true_label), preds[0])  \n",
    "    for true_label, preds in zip(df['manual_topic'], top_y_preds)\n",
    "]\n",
    "\n",
    "precision, recall, f1, _ = precision_recall_fscore_support(df['manual_topic'], y_pred_final, average='macro')\n",
    "\n",
    "print(\"Custom Precision:\", precision)\n",
    "print(\"Custom Recall:\", recall)\n",
    "print(\"Custom F1 Score:\", f1)\n",
    "\n",
    "accuracy = accuracy_score(df['manual_topic'], y_pred_final)\n",
    "print(\"Custom Accuracy:\", accuracy)\n",
    "\n",
    "\n",
    "report = classification_report(df['manual_topic'], y_pred_final, zero_division=0)\n",
    "\n",
    "print(\"Custom Accuracy:\", accuracy)\n",
    "print(\"\\nClassification Report:\\n\", report)\n",
    "\n"
   ],
   "metadata": {
    "collapsed": false,
    "ExecuteTime": {
     "end_time": "2025-02-20T08:38:52.068209800Z",
     "start_time": "2025-02-20T08:38:52.055390500Z"
    }
   },
   "id": "94f55f0cbaa95d96",
   "execution_count": 17
  },
  {
   "cell_type": "code",
   "outputs": [],
   "source": [],
   "metadata": {
    "collapsed": false
   },
   "id": "3a0bedc9d99e4ae1"
  }
 ],
 "metadata": {
  "kernelspec": {
   "display_name": "Python 3",
   "language": "python",
   "name": "python3"
  },
  "language_info": {
   "codemirror_mode": {
    "name": "ipython",
    "version": 2
   },
   "file_extension": ".py",
   "mimetype": "text/x-python",
   "name": "python",
   "nbconvert_exporter": "python",
   "pygments_lexer": "ipython2",
   "version": "2.7.6"
  }
 },
 "nbformat": 4,
 "nbformat_minor": 5
}
