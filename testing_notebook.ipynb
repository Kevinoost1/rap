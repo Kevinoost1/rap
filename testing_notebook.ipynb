{
 "cells": [
  {
   "cell_type": "code",
   "execution_count": 2,
   "id": "initial_id",
   "metadata": {
    "collapsed": true,
    "ExecuteTime": {
     "end_time": "2025-02-13T13:31:34.419864300Z",
     "start_time": "2025-02-13T13:31:34.407490600Z"
    }
   },
   "outputs": [],
   "source": [
    "import pandas as pd"
   ]
  },
  {
   "cell_type": "markdown",
   "source": [
    "# ROBERTA testing"
   ],
   "metadata": {
    "collapsed": false
   },
   "id": "bf466548b3d3a158"
  },
  {
   "cell_type": "code",
   "outputs": [],
   "source": [
    "labelled_df = pd.read_csv('labelled_test_set.csv')"
   ],
   "metadata": {
    "collapsed": false,
    "ExecuteTime": {
     "end_time": "2025-02-13T13:54:31.713273100Z",
     "start_time": "2025-02-13T13:54:31.663484900Z"
    }
   },
   "id": "11cb8f3439647ecd",
   "execution_count": 32
  },
  {
   "cell_type": "code",
   "outputs": [],
   "source": [
    "\n",
    "def accuracy_calc(df, roberta_classes, manual_class):\n",
    "    df = df.copy()\n",
    "    \n",
    "    df['top_roberta_class1'] = df['top_roberta_class1'].replace(roberta_classes, manual_class)\n",
    "    df['top_roberta_class2'] = df['top_roberta_class2'].replace(roberta_classes, manual_class)\n",
    "\n",
    "    manually_labelled_as_class = df[df['manual_topic'] == manual_class]\n",
    "\n",
    "    accuracy = manually_labelled_as_class[\n",
    "        (manually_labelled_as_class['manual_topic'] == manually_labelled_as_class['top_roberta_class1']) |\n",
    "        (manually_labelled_as_class['manual_topic'] == manually_labelled_as_class['top_roberta_class2'])\n",
    "    ]\n",
    "\n",
    "    return (f'The accuracy within the {manual_class} topic: {round((len(accuracy) / len(manually_labelled_as_class)) * 100, 2)}%'), round((len(accuracy) / len(manually_labelled_as_class)) * 100, 2)"
   ],
   "metadata": {
    "collapsed": false,
    "ExecuteTime": {
     "end_time": "2025-02-13T15:11:47.449473200Z",
     "start_time": "2025-02-13T15:11:47.414569900Z"
    }
   },
   "id": "b2175e9888566709",
   "execution_count": 140
  },
  {
   "cell_type": "code",
   "outputs": [
    {
     "name": "stdout",
     "output_type": "stream",
     "text": [
      "The accuracy within the vlog topic: 69.35%\n",
      "The accuracy within the relationships topic: 79.63%\n",
      "The accuracy within the politics topic: 45.45%\n",
      "The accuracy within the food topic: 85.71%\n",
      "The accuracy within the health topic: 57.14%\n",
      "The accuracy within the beauty topic: 69.23%\n",
      "\n",
      " With an average accuracy of 67.75%\n"
     ]
    }
   ],
   "source": [
    "from sklearn.metrics import confusion_matrix, accuracy_score, precision_score, recall_score\n",
    "grouped_topics = {\n",
    "    'vlog': ['diaries_&_daily_life', 'relationships', 'family'],\n",
    "    'relationships': ['diaries_&_daily_life', 'relationships', 'family'],  \n",
    "    'politics': ['news_&_social_concern'],\n",
    "    'food': ['food_&_dining'],\n",
    "    'health': ['fitness_&_health'],\n",
    "    'beauty': ['fashion_&_style']\n",
    "}\n",
    "\n",
    "all_accs = 0\n",
    "for manual_topic, roberta_classes in grouped_topics.items():\n",
    "    acc_line, acc = accuracy_calc(labelled_df, roberta_classes, manual_topic)\n",
    "    print(acc_line)\n",
    "    all_accs += acc\n",
    "    \n",
    "print(f'\\n With an average accuracy of {round((all_accs / 6), 2)}%')\n",
    "    \n"
   ],
   "metadata": {
    "collapsed": false,
    "ExecuteTime": {
     "end_time": "2025-02-13T15:12:27.612544Z",
     "start_time": "2025-02-13T15:12:27.578348600Z"
    }
   },
   "id": "6d270efa2aca2b32",
   "execution_count": 144
  },
  {
   "cell_type": "code",
   "outputs": [],
   "source": [
    "sent_conv_dict = {'pos': 'positive', 'neg': 'negative', 'neu': 'neutral'}\n",
    "df_sent = labelled_df.copy()\n",
    "\n",
    "df_sent['manual_sent'] = df_sent['manual_sent'].replace(sent_conv_dict)"
   ],
   "metadata": {
    "collapsed": false,
    "ExecuteTime": {
     "end_time": "2025-02-13T14:37:14.181408Z",
     "start_time": "2025-02-13T14:37:14.151254Z"
    }
   },
   "id": "d61fcd172c1297fc",
   "execution_count": 118
  },
  {
   "cell_type": "code",
   "outputs": [
    {
     "name": "stdout",
     "output_type": "stream",
     "text": [
      "The accuracy for positive is: 78.68%\n",
      "The accuracy for negative is: 68.42%\n",
      "The accuracy for neutral is: 64.71%\n"
     ]
    }
   ],
   "source": [
    "for sent in sent_conv_dict.values():\n",
    "    sent_pred_table = []\n",
    "    df_with_sent = df_sent[df_sent['manual_sent'] == sent]\n",
    "    correct = (df_with_sent['manual_sent'] == df_with_sent['sent_roberta_tweet_class']).sum()\n",
    "    acc_sent = round((correct / len(df_with_sent)) *100, 2) \n",
    "    print(f'The accuracy for {sent} is: {acc_sent}%')\n",
    "    "
   ],
   "metadata": {
    "collapsed": false,
    "ExecuteTime": {
     "end_time": "2025-02-13T14:37:43.406006Z",
     "start_time": "2025-02-13T14:37:43.379483700Z"
    }
   },
   "id": "ec8a931529485707",
   "execution_count": 120
  },
  {
   "cell_type": "code",
   "outputs": [
    {
     "name": "stdout",
     "output_type": "stream",
     "text": [
      "[[ 65  23   7]\n",
      " [ 12  44  12]\n",
      " [  9  20 107]]\n",
      "The average accuracy is: 72.24%, \n",
      " The weighted precision is: 0.74, \n",
      " The weighted recall is: 0.72\n"
     ]
    }
   ],
   "source": [
    "from sklearn.metrics import confusion_matrix, accuracy_score, precision_score, recall_score\n",
    "y_true = df_sent['manual_sent']\n",
    "y_pred = df_sent['sent_roberta_tweet_class']\n",
    "\n",
    "cm = confusion_matrix(y_true, y_pred)\n",
    "print(cm)\n",
    "sent_acc = accuracy_score(y_true, y_pred)\n",
    "sent_precision = precision_score(y_true, y_pred, average='weighted')\n",
    "sent_recall = recall_score(y_true, y_pred, average='weighted')\n",
    "\n",
    "print(f'The average accuracy is: {round((sent_acc * 100), 2)}%, \\n The weighted precision is: {round(sent_precision, 2)}, \\n The weighted recall is: {round(sent_recall, 2)}')"
   ],
   "metadata": {
    "collapsed": false,
    "ExecuteTime": {
     "end_time": "2025-02-13T15:00:00.741215Z",
     "start_time": "2025-02-13T15:00:00.712556800Z"
    }
   },
   "id": "481066d3fff09cee",
   "execution_count": 128
  },
  {
   "cell_type": "markdown",
   "source": [
    "# Distribution of Topics in manual labels"
   ],
   "metadata": {
    "collapsed": false
   },
   "id": "199fb2ea2f200333"
  },
  {
   "cell_type": "code",
   "outputs": [
    {
     "name": "stderr",
     "output_type": "stream",
     "text": [
      "C:\\Users\\2mrwm\\AppData\\Local\\Temp\\ipykernel_9632\\195532631.py:16: FutureWarning: \n",
      "\n",
      "Passing `palette` without assigning `hue` is deprecated and will be removed in v0.14.0. Assign the `y` variable to `hue` and set `legend=False` for the same effect.\n",
      "\n",
      "  sns.barplot(data=bar_df, x='count', y='topic', palette='Blues_r')\n"
     ]
    },
    {
     "name": "stdout",
     "output_type": "stream",
     "text": [
      " The percentage for food is: 9.36%\n",
      " The percentage for vlog is: 20.74%\n",
      " The percentage for health is: 2.34%\n",
      " The percentage for politics is: 7.36%\n",
      " The percentage for meme is: 3.34%\n",
      " The percentage for misc is: 20.74%\n",
      " The percentage for relationships is: 18.06%\n",
      " The percentage for art is: 5.69%\n",
      " The percentage for beauty is: 8.7%\n",
      " The percentage for self is: 3.68%\n"
     ]
    },
    {
     "data": {
      "text/plain": "<Figure size 640x480 with 1 Axes>",
      "image/png": "[encoded data removed]"
     },
     "metadata": {},
     "output_type": "display_data"
    }
   ],
   "source": [
    "import pandas as pd\n",
    "import math\n",
    "import matplotlib.pyplot as plt\n",
    "import seaborn as sns\n",
    "from collections import Counter\n",
    "import numpy as np\n",
    "\n",
    "different_topics = labelled_df['manual_topic']\n",
    "count = Counter(different_topics)\n",
    "\n",
    "topics = [topic for topic in count]\n",
    "height = [n for n in count.values()]\n",
    "bar_df = pd.DataFrame()\n",
    "bar_df['topic'] = topics\n",
    "bar_df['count'] = height\n",
    "sns.barplot(data=bar_df, x='count', y='topic', palette='Blues_r')\n",
    "\n",
    "total_count = np.sum(np.array(height))\n",
    "for t in count:\n",
    "    print(f' The percentage for {t} is: {round(((count[t] / total_count) * 100), 2)}%')\n"
   ],
   "metadata": {
    "collapsed": false,
    "ExecuteTime": {
     "end_time": "2025-02-13T15:34:13.165437200Z",
     "start_time": "2025-02-13T15:34:12.903857700Z"
    }
   },
   "id": "cae62965001adfbd",
   "execution_count": 166
  },
  {
   "cell_type": "code",
   "outputs": [],
   "source": [],
   "metadata": {
    "collapsed": false
   },
   "id": "3dcd78ecc0e18927"
  }
 ],
 "metadata": {
  "kernelspec": {
   "display_name": "Python 3",
   "language": "python",
   "name": "python3"
  },
  "language_info": {
   "codemirror_mode": {
    "name": "ipython",
    "version": 2
   },
   "file_extension": ".py",
   "mimetype": "text/x-python",
   "name": "python",
   "nbconvert_exporter": "python",
   "pygments_lexer": "ipython2",
   "version": "2.7.6"
  }
 },
 "nbformat": 4,
 "nbformat_minor": 5
}
